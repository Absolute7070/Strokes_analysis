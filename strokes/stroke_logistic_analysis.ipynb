{
 "cells": [
  {
   "cell_type": "code",
   "execution_count": 1,
   "id": "c88be6c8-3382-420e-a150-2c25269d482a",
   "metadata": {},
   "outputs": [],
   "source": [
    "import pandas as pd \n",
    "import seaborn as sns \n",
    "import matplotlib.pyplot as plt \n",
    "import numpy as np\n",
    "import statsmodels.api as sm \n",
    "from sklearn.model_selection import train_test_split \n",
    "\n",
    "sns.set()\n",
    "\n"
   ]
  },
  {
   "cell_type": "code",
   "execution_count": null,
   "id": "9d99998f-8d5d-49cd-a0be-47ff2525dc3b",
   "metadata": {},
   "outputs": [],
   "source": []
  },
  {
   "cell_type": "markdown",
   "id": "fd26e75f-1a0f-4d76-babd-65c1bb597fad",
   "metadata": {},
   "source": [
    "# Introduction \n",
    "\n",
    "We have a dataset of stroke incidences from <a href= 'https://www.kaggle.com/datasets/fedesoriano/stroke-prediction-dataset'>Kaggle</a>\n",
    "\n",
    "\n",
    "# Objective \n",
    "\n",
    "We want to make a logistic regression on the possible event of a stroke. "
   ]
  },
  {
   "cell_type": "markdown",
   "id": "49985e69-d256-481b-bacd-64782898db25",
   "metadata": {},
   "source": [
    "# Importing data "
   ]
  },
  {
   "cell_type": "code",
   "execution_count": 2,
   "id": "0745205b-af40-4a97-a122-b094e4419d0f",
   "metadata": {},
   "outputs": [
    {
     "data": {
      "text/html": [
       "<div>\n",
       "<style scoped>\n",
       "    .dataframe tbody tr th:only-of-type {\n",
       "        vertical-align: middle;\n",
       "    }\n",
       "\n",
       "    .dataframe tbody tr th {\n",
       "        vertical-align: top;\n",
       "    }\n",
       "\n",
       "    .dataframe thead th {\n",
       "        text-align: right;\n",
       "    }\n",
       "</style>\n",
       "<table border=\"1\" class=\"dataframe\">\n",
       "  <thead>\n",
       "    <tr style=\"text-align: right;\">\n",
       "      <th></th>\n",
       "      <th>id</th>\n",
       "      <th>gender</th>\n",
       "      <th>age</th>\n",
       "      <th>hypertension</th>\n",
       "      <th>heart_disease</th>\n",
       "      <th>ever_married</th>\n",
       "      <th>work_type</th>\n",
       "      <th>Residence_type</th>\n",
       "      <th>avg_glucose_level</th>\n",
       "      <th>bmi</th>\n",
       "      <th>smoking_status</th>\n",
       "      <th>stroke</th>\n",
       "    </tr>\n",
       "  </thead>\n",
       "  <tbody>\n",
       "    <tr>\n",
       "      <th>0</th>\n",
       "      <td>9046</td>\n",
       "      <td>Male</td>\n",
       "      <td>67.0</td>\n",
       "      <td>0</td>\n",
       "      <td>1</td>\n",
       "      <td>Yes</td>\n",
       "      <td>Private</td>\n",
       "      <td>Urban</td>\n",
       "      <td>228.69</td>\n",
       "      <td>36.6</td>\n",
       "      <td>formerly smoked</td>\n",
       "      <td>1</td>\n",
       "    </tr>\n",
       "    <tr>\n",
       "      <th>1</th>\n",
       "      <td>51676</td>\n",
       "      <td>Female</td>\n",
       "      <td>61.0</td>\n",
       "      <td>0</td>\n",
       "      <td>0</td>\n",
       "      <td>Yes</td>\n",
       "      <td>Self-employed</td>\n",
       "      <td>Rural</td>\n",
       "      <td>202.21</td>\n",
       "      <td>NaN</td>\n",
       "      <td>never smoked</td>\n",
       "      <td>1</td>\n",
       "    </tr>\n",
       "    <tr>\n",
       "      <th>2</th>\n",
       "      <td>31112</td>\n",
       "      <td>Male</td>\n",
       "      <td>80.0</td>\n",
       "      <td>0</td>\n",
       "      <td>1</td>\n",
       "      <td>Yes</td>\n",
       "      <td>Private</td>\n",
       "      <td>Rural</td>\n",
       "      <td>105.92</td>\n",
       "      <td>32.5</td>\n",
       "      <td>never smoked</td>\n",
       "      <td>1</td>\n",
       "    </tr>\n",
       "    <tr>\n",
       "      <th>3</th>\n",
       "      <td>60182</td>\n",
       "      <td>Female</td>\n",
       "      <td>49.0</td>\n",
       "      <td>0</td>\n",
       "      <td>0</td>\n",
       "      <td>Yes</td>\n",
       "      <td>Private</td>\n",
       "      <td>Urban</td>\n",
       "      <td>171.23</td>\n",
       "      <td>34.4</td>\n",
       "      <td>smokes</td>\n",
       "      <td>1</td>\n",
       "    </tr>\n",
       "    <tr>\n",
       "      <th>4</th>\n",
       "      <td>1665</td>\n",
       "      <td>Female</td>\n",
       "      <td>79.0</td>\n",
       "      <td>1</td>\n",
       "      <td>0</td>\n",
       "      <td>Yes</td>\n",
       "      <td>Self-employed</td>\n",
       "      <td>Rural</td>\n",
       "      <td>174.12</td>\n",
       "      <td>24.0</td>\n",
       "      <td>never smoked</td>\n",
       "      <td>1</td>\n",
       "    </tr>\n",
       "    <tr>\n",
       "      <th>...</th>\n",
       "      <td>...</td>\n",
       "      <td>...</td>\n",
       "      <td>...</td>\n",
       "      <td>...</td>\n",
       "      <td>...</td>\n",
       "      <td>...</td>\n",
       "      <td>...</td>\n",
       "      <td>...</td>\n",
       "      <td>...</td>\n",
       "      <td>...</td>\n",
       "      <td>...</td>\n",
       "      <td>...</td>\n",
       "    </tr>\n",
       "    <tr>\n",
       "      <th>5105</th>\n",
       "      <td>18234</td>\n",
       "      <td>Female</td>\n",
       "      <td>80.0</td>\n",
       "      <td>1</td>\n",
       "      <td>0</td>\n",
       "      <td>Yes</td>\n",
       "      <td>Private</td>\n",
       "      <td>Urban</td>\n",
       "      <td>83.75</td>\n",
       "      <td>NaN</td>\n",
       "      <td>never smoked</td>\n",
       "      <td>0</td>\n",
       "    </tr>\n",
       "    <tr>\n",
       "      <th>5106</th>\n",
       "      <td>44873</td>\n",
       "      <td>Female</td>\n",
       "      <td>81.0</td>\n",
       "      <td>0</td>\n",
       "      <td>0</td>\n",
       "      <td>Yes</td>\n",
       "      <td>Self-employed</td>\n",
       "      <td>Urban</td>\n",
       "      <td>125.20</td>\n",
       "      <td>40.0</td>\n",
       "      <td>never smoked</td>\n",
       "      <td>0</td>\n",
       "    </tr>\n",
       "    <tr>\n",
       "      <th>5107</th>\n",
       "      <td>19723</td>\n",
       "      <td>Female</td>\n",
       "      <td>35.0</td>\n",
       "      <td>0</td>\n",
       "      <td>0</td>\n",
       "      <td>Yes</td>\n",
       "      <td>Self-employed</td>\n",
       "      <td>Rural</td>\n",
       "      <td>82.99</td>\n",
       "      <td>30.6</td>\n",
       "      <td>never smoked</td>\n",
       "      <td>0</td>\n",
       "    </tr>\n",
       "    <tr>\n",
       "      <th>5108</th>\n",
       "      <td>37544</td>\n",
       "      <td>Male</td>\n",
       "      <td>51.0</td>\n",
       "      <td>0</td>\n",
       "      <td>0</td>\n",
       "      <td>Yes</td>\n",
       "      <td>Private</td>\n",
       "      <td>Rural</td>\n",
       "      <td>166.29</td>\n",
       "      <td>25.6</td>\n",
       "      <td>formerly smoked</td>\n",
       "      <td>0</td>\n",
       "    </tr>\n",
       "    <tr>\n",
       "      <th>5109</th>\n",
       "      <td>44679</td>\n",
       "      <td>Female</td>\n",
       "      <td>44.0</td>\n",
       "      <td>0</td>\n",
       "      <td>0</td>\n",
       "      <td>Yes</td>\n",
       "      <td>Govt_job</td>\n",
       "      <td>Urban</td>\n",
       "      <td>85.28</td>\n",
       "      <td>26.2</td>\n",
       "      <td>Unknown</td>\n",
       "      <td>0</td>\n",
       "    </tr>\n",
       "  </tbody>\n",
       "</table>\n",
       "<p>5110 rows × 12 columns</p>\n",
       "</div>"
      ],
      "text/plain": [
       "         id  gender   age  hypertension  heart_disease ever_married  \\\n",
       "0      9046    Male  67.0             0              1          Yes   \n",
       "1     51676  Female  61.0             0              0          Yes   \n",
       "2     31112    Male  80.0             0              1          Yes   \n",
       "3     60182  Female  49.0             0              0          Yes   \n",
       "4      1665  Female  79.0             1              0          Yes   \n",
       "...     ...     ...   ...           ...            ...          ...   \n",
       "5105  18234  Female  80.0             1              0          Yes   \n",
       "5106  44873  Female  81.0             0              0          Yes   \n",
       "5107  19723  Female  35.0             0              0          Yes   \n",
       "5108  37544    Male  51.0             0              0          Yes   \n",
       "5109  44679  Female  44.0             0              0          Yes   \n",
       "\n",
       "          work_type Residence_type  avg_glucose_level   bmi   smoking_status  \\\n",
       "0           Private          Urban             228.69  36.6  formerly smoked   \n",
       "1     Self-employed          Rural             202.21   NaN     never smoked   \n",
       "2           Private          Rural             105.92  32.5     never smoked   \n",
       "3           Private          Urban             171.23  34.4           smokes   \n",
       "4     Self-employed          Rural             174.12  24.0     never smoked   \n",
       "...             ...            ...                ...   ...              ...   \n",
       "5105        Private          Urban              83.75   NaN     never smoked   \n",
       "5106  Self-employed          Urban             125.20  40.0     never smoked   \n",
       "5107  Self-employed          Rural              82.99  30.6     never smoked   \n",
       "5108        Private          Rural             166.29  25.6  formerly smoked   \n",
       "5109       Govt_job          Urban              85.28  26.2          Unknown   \n",
       "\n",
       "      stroke  \n",
       "0          1  \n",
       "1          1  \n",
       "2          1  \n",
       "3          1  \n",
       "4          1  \n",
       "...      ...  \n",
       "5105       0  \n",
       "5106       0  \n",
       "5107       0  \n",
       "5108       0  \n",
       "5109       0  \n",
       "\n",
       "[5110 rows x 12 columns]"
      ]
     },
     "execution_count": 2,
     "metadata": {},
     "output_type": "execute_result"
    }
   ],
   "source": [
    "raw_data= pd.read_csv('healthcare-dataset-stroke-data.csv')\n",
    "raw_data "
   ]
  },
  {
   "cell_type": "code",
   "execution_count": 3,
   "id": "cc7918c9-5058-4b8f-8d8b-9483e69eb688",
   "metadata": {},
   "outputs": [],
   "source": [
    "# raw_data= raw_data.drop(['id'], axis= 1) # drop id column, which has no predictive power \n",
    "# raw_data= raw_data.drop(['id', 'work_type'], axis= 1) # dropped id and work_type, since MLE iteration failed \n",
    "raw_data= raw_data.drop(['id', 'work_type','heart_disease', 'bmi', 'gender', 'ever_married', 'Residence_type', 'smoking_status'], axis= 1)"
   ]
  },
  {
   "cell_type": "code",
   "execution_count": 4,
   "id": "5271736f-c034-4f62-bd43-724630e22136",
   "metadata": {},
   "outputs": [
    {
     "name": "stdout",
     "output_type": "stream",
     "text": [
      "<class 'pandas.core.frame.DataFrame'>\n",
      "RangeIndex: 5110 entries, 0 to 5109\n",
      "Data columns (total 4 columns):\n",
      " #   Column             Non-Null Count  Dtype  \n",
      "---  ------             --------------  -----  \n",
      " 0   age                5110 non-null   float64\n",
      " 1   hypertension       5110 non-null   int64  \n",
      " 2   avg_glucose_level  5110 non-null   float64\n",
      " 3   stroke             5110 non-null   int64  \n",
      "dtypes: float64(2), int64(2)\n",
      "memory usage: 159.8 KB\n"
     ]
    }
   ],
   "source": [
    "raw_data.info()\n"
   ]
  },
  {
   "cell_type": "code",
   "execution_count": 5,
   "id": "6184463e-52a0-4ddf-923e-1b8860951ee2",
   "metadata": {},
   "outputs": [
    {
     "data": {
      "text/html": [
       "<div>\n",
       "<style scoped>\n",
       "    .dataframe tbody tr th:only-of-type {\n",
       "        vertical-align: middle;\n",
       "    }\n",
       "\n",
       "    .dataframe tbody tr th {\n",
       "        vertical-align: top;\n",
       "    }\n",
       "\n",
       "    .dataframe thead th {\n",
       "        text-align: right;\n",
       "    }\n",
       "</style>\n",
       "<table border=\"1\" class=\"dataframe\">\n",
       "  <thead>\n",
       "    <tr style=\"text-align: right;\">\n",
       "      <th></th>\n",
       "      <th>age</th>\n",
       "      <th>hypertension</th>\n",
       "      <th>avg_glucose_level</th>\n",
       "      <th>stroke</th>\n",
       "    </tr>\n",
       "  </thead>\n",
       "  <tbody>\n",
       "    <tr>\n",
       "      <th>count</th>\n",
       "      <td>5110.000000</td>\n",
       "      <td>5110.000000</td>\n",
       "      <td>5110.000000</td>\n",
       "      <td>5110.000000</td>\n",
       "    </tr>\n",
       "    <tr>\n",
       "      <th>mean</th>\n",
       "      <td>43.226614</td>\n",
       "      <td>0.097456</td>\n",
       "      <td>106.147677</td>\n",
       "      <td>0.048728</td>\n",
       "    </tr>\n",
       "    <tr>\n",
       "      <th>std</th>\n",
       "      <td>22.612647</td>\n",
       "      <td>0.296607</td>\n",
       "      <td>45.283560</td>\n",
       "      <td>0.215320</td>\n",
       "    </tr>\n",
       "    <tr>\n",
       "      <th>min</th>\n",
       "      <td>0.080000</td>\n",
       "      <td>0.000000</td>\n",
       "      <td>55.120000</td>\n",
       "      <td>0.000000</td>\n",
       "    </tr>\n",
       "    <tr>\n",
       "      <th>25%</th>\n",
       "      <td>25.000000</td>\n",
       "      <td>0.000000</td>\n",
       "      <td>77.245000</td>\n",
       "      <td>0.000000</td>\n",
       "    </tr>\n",
       "    <tr>\n",
       "      <th>50%</th>\n",
       "      <td>45.000000</td>\n",
       "      <td>0.000000</td>\n",
       "      <td>91.885000</td>\n",
       "      <td>0.000000</td>\n",
       "    </tr>\n",
       "    <tr>\n",
       "      <th>75%</th>\n",
       "      <td>61.000000</td>\n",
       "      <td>0.000000</td>\n",
       "      <td>114.090000</td>\n",
       "      <td>0.000000</td>\n",
       "    </tr>\n",
       "    <tr>\n",
       "      <th>max</th>\n",
       "      <td>82.000000</td>\n",
       "      <td>1.000000</td>\n",
       "      <td>271.740000</td>\n",
       "      <td>1.000000</td>\n",
       "    </tr>\n",
       "  </tbody>\n",
       "</table>\n",
       "</div>"
      ],
      "text/plain": [
       "               age  hypertension  avg_glucose_level       stroke\n",
       "count  5110.000000   5110.000000        5110.000000  5110.000000\n",
       "mean     43.226614      0.097456         106.147677     0.048728\n",
       "std      22.612647      0.296607          45.283560     0.215320\n",
       "min       0.080000      0.000000          55.120000     0.000000\n",
       "25%      25.000000      0.000000          77.245000     0.000000\n",
       "50%      45.000000      0.000000          91.885000     0.000000\n",
       "75%      61.000000      0.000000         114.090000     0.000000\n",
       "max      82.000000      1.000000         271.740000     1.000000"
      ]
     },
     "execution_count": 5,
     "metadata": {},
     "output_type": "execute_result"
    }
   ],
   "source": [
    "raw_data.describe()"
   ]
  },
  {
   "cell_type": "markdown",
   "id": "a8466341-3fe2-4f85-8931-7aff4378833b",
   "metadata": {},
   "source": [
    "There are a few Nan values in \"bmi\". We remove those observations: "
   ]
  },
  {
   "cell_type": "code",
   "execution_count": 6,
   "id": "a5c10d78-a5ca-479e-9ab5-455690f47a65",
   "metadata": {},
   "outputs": [],
   "source": [
    "raw_data= raw_data.dropna(axis=0 )  "
   ]
  },
  {
   "cell_type": "code",
   "execution_count": 7,
   "id": "6cec200e-8525-4637-a150-cd209e112123",
   "metadata": {},
   "outputs": [
    {
     "data": {
      "text/html": [
       "<div>\n",
       "<style scoped>\n",
       "    .dataframe tbody tr th:only-of-type {\n",
       "        vertical-align: middle;\n",
       "    }\n",
       "\n",
       "    .dataframe tbody tr th {\n",
       "        vertical-align: top;\n",
       "    }\n",
       "\n",
       "    .dataframe thead th {\n",
       "        text-align: right;\n",
       "    }\n",
       "</style>\n",
       "<table border=\"1\" class=\"dataframe\">\n",
       "  <thead>\n",
       "    <tr style=\"text-align: right;\">\n",
       "      <th></th>\n",
       "      <th>age</th>\n",
       "      <th>hypertension</th>\n",
       "      <th>avg_glucose_level</th>\n",
       "      <th>stroke</th>\n",
       "    </tr>\n",
       "  </thead>\n",
       "  <tbody>\n",
       "    <tr>\n",
       "      <th>count</th>\n",
       "      <td>5110.000000</td>\n",
       "      <td>5110.000000</td>\n",
       "      <td>5110.000000</td>\n",
       "      <td>5110.000000</td>\n",
       "    </tr>\n",
       "    <tr>\n",
       "      <th>mean</th>\n",
       "      <td>43.226614</td>\n",
       "      <td>0.097456</td>\n",
       "      <td>106.147677</td>\n",
       "      <td>0.048728</td>\n",
       "    </tr>\n",
       "    <tr>\n",
       "      <th>std</th>\n",
       "      <td>22.612647</td>\n",
       "      <td>0.296607</td>\n",
       "      <td>45.283560</td>\n",
       "      <td>0.215320</td>\n",
       "    </tr>\n",
       "    <tr>\n",
       "      <th>min</th>\n",
       "      <td>0.080000</td>\n",
       "      <td>0.000000</td>\n",
       "      <td>55.120000</td>\n",
       "      <td>0.000000</td>\n",
       "    </tr>\n",
       "    <tr>\n",
       "      <th>25%</th>\n",
       "      <td>25.000000</td>\n",
       "      <td>0.000000</td>\n",
       "      <td>77.245000</td>\n",
       "      <td>0.000000</td>\n",
       "    </tr>\n",
       "    <tr>\n",
       "      <th>50%</th>\n",
       "      <td>45.000000</td>\n",
       "      <td>0.000000</td>\n",
       "      <td>91.885000</td>\n",
       "      <td>0.000000</td>\n",
       "    </tr>\n",
       "    <tr>\n",
       "      <th>75%</th>\n",
       "      <td>61.000000</td>\n",
       "      <td>0.000000</td>\n",
       "      <td>114.090000</td>\n",
       "      <td>0.000000</td>\n",
       "    </tr>\n",
       "    <tr>\n",
       "      <th>max</th>\n",
       "      <td>82.000000</td>\n",
       "      <td>1.000000</td>\n",
       "      <td>271.740000</td>\n",
       "      <td>1.000000</td>\n",
       "    </tr>\n",
       "  </tbody>\n",
       "</table>\n",
       "</div>"
      ],
      "text/plain": [
       "               age  hypertension  avg_glucose_level       stroke\n",
       "count  5110.000000   5110.000000        5110.000000  5110.000000\n",
       "mean     43.226614      0.097456         106.147677     0.048728\n",
       "std      22.612647      0.296607          45.283560     0.215320\n",
       "min       0.080000      0.000000          55.120000     0.000000\n",
       "25%      25.000000      0.000000          77.245000     0.000000\n",
       "50%      45.000000      0.000000          91.885000     0.000000\n",
       "75%      61.000000      0.000000         114.090000     0.000000\n",
       "max      82.000000      1.000000         271.740000     1.000000"
      ]
     },
     "execution_count": 7,
     "metadata": {},
     "output_type": "execute_result"
    }
   ],
   "source": [
    "raw_data.describe()"
   ]
  },
  {
   "cell_type": "markdown",
   "id": "5923911e-4143-4df7-ae52-1f70517fee4e",
   "metadata": {},
   "source": [
    "# Preprocessing \n"
   ]
  },
  {
   "cell_type": "markdown",
   "id": "da23105d-a5e4-4807-be66-618939e0df77",
   "metadata": {},
   "source": [
    "Convert non-numerical data into dummy variables: "
   ]
  },
  {
   "cell_type": "code",
   "execution_count": 8,
   "id": "e3123702-4fee-400b-8710-789b6a7c7da2",
   "metadata": {},
   "outputs": [
    {
     "data": {
      "text/html": [
       "<div>\n",
       "<style scoped>\n",
       "    .dataframe tbody tr th:only-of-type {\n",
       "        vertical-align: middle;\n",
       "    }\n",
       "\n",
       "    .dataframe tbody tr th {\n",
       "        vertical-align: top;\n",
       "    }\n",
       "\n",
       "    .dataframe thead th {\n",
       "        text-align: right;\n",
       "    }\n",
       "</style>\n",
       "<table border=\"1\" class=\"dataframe\">\n",
       "  <thead>\n",
       "    <tr style=\"text-align: right;\">\n",
       "      <th></th>\n",
       "      <th>age</th>\n",
       "      <th>hypertension</th>\n",
       "      <th>avg_glucose_level</th>\n",
       "      <th>stroke</th>\n",
       "    </tr>\n",
       "  </thead>\n",
       "  <tbody>\n",
       "    <tr>\n",
       "      <th>0</th>\n",
       "      <td>67.0</td>\n",
       "      <td>0</td>\n",
       "      <td>228.69</td>\n",
       "      <td>1</td>\n",
       "    </tr>\n",
       "    <tr>\n",
       "      <th>1</th>\n",
       "      <td>61.0</td>\n",
       "      <td>0</td>\n",
       "      <td>202.21</td>\n",
       "      <td>1</td>\n",
       "    </tr>\n",
       "    <tr>\n",
       "      <th>2</th>\n",
       "      <td>80.0</td>\n",
       "      <td>0</td>\n",
       "      <td>105.92</td>\n",
       "      <td>1</td>\n",
       "    </tr>\n",
       "    <tr>\n",
       "      <th>3</th>\n",
       "      <td>49.0</td>\n",
       "      <td>0</td>\n",
       "      <td>171.23</td>\n",
       "      <td>1</td>\n",
       "    </tr>\n",
       "    <tr>\n",
       "      <th>4</th>\n",
       "      <td>79.0</td>\n",
       "      <td>1</td>\n",
       "      <td>174.12</td>\n",
       "      <td>1</td>\n",
       "    </tr>\n",
       "    <tr>\n",
       "      <th>...</th>\n",
       "      <td>...</td>\n",
       "      <td>...</td>\n",
       "      <td>...</td>\n",
       "      <td>...</td>\n",
       "    </tr>\n",
       "    <tr>\n",
       "      <th>5105</th>\n",
       "      <td>80.0</td>\n",
       "      <td>1</td>\n",
       "      <td>83.75</td>\n",
       "      <td>0</td>\n",
       "    </tr>\n",
       "    <tr>\n",
       "      <th>5106</th>\n",
       "      <td>81.0</td>\n",
       "      <td>0</td>\n",
       "      <td>125.20</td>\n",
       "      <td>0</td>\n",
       "    </tr>\n",
       "    <tr>\n",
       "      <th>5107</th>\n",
       "      <td>35.0</td>\n",
       "      <td>0</td>\n",
       "      <td>82.99</td>\n",
       "      <td>0</td>\n",
       "    </tr>\n",
       "    <tr>\n",
       "      <th>5108</th>\n",
       "      <td>51.0</td>\n",
       "      <td>0</td>\n",
       "      <td>166.29</td>\n",
       "      <td>0</td>\n",
       "    </tr>\n",
       "    <tr>\n",
       "      <th>5109</th>\n",
       "      <td>44.0</td>\n",
       "      <td>0</td>\n",
       "      <td>85.28</td>\n",
       "      <td>0</td>\n",
       "    </tr>\n",
       "  </tbody>\n",
       "</table>\n",
       "<p>5110 rows × 4 columns</p>\n",
       "</div>"
      ],
      "text/plain": [
       "       age  hypertension  avg_glucose_level  stroke\n",
       "0     67.0             0             228.69       1\n",
       "1     61.0             0             202.21       1\n",
       "2     80.0             0             105.92       1\n",
       "3     49.0             0             171.23       1\n",
       "4     79.0             1             174.12       1\n",
       "...    ...           ...                ...     ...\n",
       "5105  80.0             1              83.75       0\n",
       "5106  81.0             0             125.20       0\n",
       "5107  35.0             0              82.99       0\n",
       "5108  51.0             0             166.29       0\n",
       "5109  44.0             0              85.28       0\n",
       "\n",
       "[5110 rows x 4 columns]"
      ]
     },
     "execution_count": 8,
     "metadata": {},
     "output_type": "execute_result"
    }
   ],
   "source": [
    "data = pd.get_dummies(raw_data, drop_first=True) \n",
    "data"
   ]
  },
  {
   "cell_type": "markdown",
   "id": "f293a306-27a1-402e-b1f2-0035f96be3ba",
   "metadata": {},
   "source": [
    "# Declaring independent and dependent variables"
   ]
  },
  {
   "cell_type": "code",
   "execution_count": 9,
   "id": "5032e191-0f11-432c-912e-8e858b76f8bb",
   "metadata": {},
   "outputs": [],
   "source": [
    "x= data.drop(['stroke'] ,axis= 1)\n",
    "y = data['stroke']        "
   ]
  },
  {
   "cell_type": "code",
   "execution_count": 10,
   "id": "fbe9fee1-6dc3-425d-9817-218a808e3e3b",
   "metadata": {},
   "outputs": [],
   "source": [
    "x_train, x_test, y_train, y_test = train_test_split(x, y, test_size= 0.2, random_state=42)"
   ]
  },
  {
   "cell_type": "markdown",
   "id": "e98bbbfe-7895-4e4c-809f-c6f85d33e4dd",
   "metadata": {},
   "source": [
    "# Splitting data into test and train data "
   ]
  },
  {
   "cell_type": "code",
   "execution_count": 11,
   "id": "8aad2eef-ca95-4ba9-8b5f-d2f3341923bc",
   "metadata": {},
   "outputs": [],
   "source": [
    "x_train, x_test, y_train, y_test = train_test_split(x, y, test_size= 0.2, random_state=42) "
   ]
  },
  {
   "cell_type": "code",
   "execution_count": null,
   "id": "9c4b1e01-f75d-4923-a2a3-b7ceb83a84d1",
   "metadata": {},
   "outputs": [],
   "source": []
  },
  {
   "cell_type": "markdown",
   "id": "28067085-93b7-4e7b-85b2-3fa2148be374",
   "metadata": {},
   "source": [
    "# Train the model "
   ]
  },
  {
   "cell_type": "code",
   "execution_count": 12,
   "id": "78f3b0a8-bd30-4092-aa52-d74117e41e21",
   "metadata": {},
   "outputs": [
    {
     "name": "stdout",
     "output_type": "stream",
     "text": [
      "Optimization terminated successfully.\n",
      "         Current function value: 0.150091\n",
      "         Iterations 9\n"
     ]
    }
   ],
   "source": [
    "x_train = sm.add_constant(x_train) # add constant column to train features \n",
    "reg_log= sm.Logit(y_train, x_train) \n",
    "results_log= reg_log.fit(maxiter= 1000000)"
   ]
  },
  {
   "cell_type": "code",
   "execution_count": 13,
   "id": "a7c22338-3403-4ad5-abe7-79e4e0f5d05b",
   "metadata": {},
   "outputs": [
    {
     "data": {
      "text/html": [
       "<table class=\"simpletable\">\n",
       "<caption>Logit Regression Results</caption>\n",
       "<tr>\n",
       "  <th>Dep. Variable:</th>        <td>stroke</td>      <th>  No. Observations:  </th>  <td>  4088</td>  \n",
       "</tr>\n",
       "<tr>\n",
       "  <th>Model:</th>                 <td>Logit</td>      <th>  Df Residuals:      </th>  <td>  4084</td>  \n",
       "</tr>\n",
       "<tr>\n",
       "  <th>Method:</th>                 <td>MLE</td>       <th>  Df Model:          </th>  <td>     3</td>  \n",
       "</tr>\n",
       "<tr>\n",
       "  <th>Date:</th>            <td>Thu, 04 Aug 2022</td> <th>  Pseudo R-squ.:     </th>  <td>0.1921</td>  \n",
       "</tr>\n",
       "<tr>\n",
       "  <th>Time:</th>                <td>08:51:59</td>     <th>  Log-Likelihood:    </th> <td> -613.57</td> \n",
       "</tr>\n",
       "<tr>\n",
       "  <th>converged:</th>             <td>True</td>       <th>  LL-Null:           </th> <td> -759.50</td> \n",
       "</tr>\n",
       "<tr>\n",
       "  <th>Covariance Type:</th>     <td>nonrobust</td>    <th>  LLR p-value:       </th> <td>5.778e-63</td>\n",
       "</tr>\n",
       "</table>\n",
       "<table class=\"simpletable\">\n",
       "<tr>\n",
       "          <td></td>             <th>coef</th>     <th>std err</th>      <th>z</th>      <th>P>|z|</th>  <th>[0.025</th>    <th>0.975]</th>  \n",
       "</tr>\n",
       "<tr>\n",
       "  <th>const</th>             <td>   -7.5726</td> <td>    0.407</td> <td>  -18.609</td> <td> 0.000</td> <td>   -8.370</td> <td>   -6.775</td>\n",
       "</tr>\n",
       "<tr>\n",
       "  <th>age</th>               <td>    0.0701</td> <td>    0.006</td> <td>   12.168</td> <td> 0.000</td> <td>    0.059</td> <td>    0.081</td>\n",
       "</tr>\n",
       "<tr>\n",
       "  <th>hypertension</th>      <td>    0.3527</td> <td>    0.189</td> <td>    1.863</td> <td> 0.062</td> <td>   -0.018</td> <td>    0.724</td>\n",
       "</tr>\n",
       "<tr>\n",
       "  <th>avg_glucose_level</th> <td>    0.0040</td> <td>    0.001</td> <td>    3.020</td> <td> 0.003</td> <td>    0.001</td> <td>    0.007</td>\n",
       "</tr>\n",
       "</table>"
      ],
      "text/plain": [
       "<class 'statsmodels.iolib.summary.Summary'>\n",
       "\"\"\"\n",
       "                           Logit Regression Results                           \n",
       "==============================================================================\n",
       "Dep. Variable:                 stroke   No. Observations:                 4088\n",
       "Model:                          Logit   Df Residuals:                     4084\n",
       "Method:                           MLE   Df Model:                            3\n",
       "Date:                Thu, 04 Aug 2022   Pseudo R-squ.:                  0.1921\n",
       "Time:                        08:51:59   Log-Likelihood:                -613.57\n",
       "converged:                       True   LL-Null:                       -759.50\n",
       "Covariance Type:            nonrobust   LLR p-value:                 5.778e-63\n",
       "=====================================================================================\n",
       "                        coef    std err          z      P>|z|      [0.025      0.975]\n",
       "-------------------------------------------------------------------------------------\n",
       "const                -7.5726      0.407    -18.609      0.000      -8.370      -6.775\n",
       "age                   0.0701      0.006     12.168      0.000       0.059       0.081\n",
       "hypertension          0.3527      0.189      1.863      0.062      -0.018       0.724\n",
       "avg_glucose_level     0.0040      0.001      3.020      0.003       0.001       0.007\n",
       "=====================================================================================\n",
       "\"\"\""
      ]
     },
     "execution_count": 13,
     "metadata": {},
     "output_type": "execute_result"
    }
   ],
   "source": [
    "results_log.summary()\n"
   ]
  },
  {
   "cell_type": "markdown",
   "id": "e1f90013-5f4e-4c21-b24d-71c846512c19",
   "metadata": {},
   "source": [
    "We note, that 'heart_disease', 'bmi', 'gender', 'ever_married', 'residence type', 'smoking_status' are not significant. We remove them and make a new model. "
   ]
  },
  {
   "cell_type": "markdown",
   "id": "3f7ab8dd-7e66-443f-8068-1355606b9790",
   "metadata": {},
   "source": [
    "# Compute the accuracy of our model "
   ]
  },
  {
   "cell_type": "code",
   "execution_count": 14,
   "id": "7be1c9d8-b245-47fa-8ef0-218bd2ccf14f",
   "metadata": {},
   "outputs": [
    {
     "data": {
      "text/plain": [
       "array([[3901.,    0.],\n",
       "       [ 187.,    0.]])"
      ]
     },
     "execution_count": 14,
     "metadata": {},
     "output_type": "execute_result"
    }
   ],
   "source": [
    "confusion_table= results_log.pred_table() # confusion table for our model \n",
    "confusion_table"
   ]
  },
  {
   "cell_type": "code",
   "execution_count": 15,
   "id": "5565abd7-40f7-404c-9192-7cf818330173",
   "metadata": {},
   "outputs": [
    {
     "name": "stdout",
     "output_type": "stream",
     "text": [
      "Our model's accuracy: 0.9542563600782779\n"
     ]
    }
   ],
   "source": [
    "accuracy= (confusion_table[0,0]+ confusion_table[1,1])/confusion_table.sum()\n",
    "print(\"Our model's accuracy:\", accuracy)"
   ]
  },
  {
   "cell_type": "markdown",
   "id": "d34b7622-169d-44b1-8737-227e097fe9dd",
   "metadata": {},
   "source": [
    "Very accurate. Our model explains 95% of the actual training values. Next we compute test with test values "
   ]
  },
  {
   "cell_type": "markdown",
   "id": "2846e15f-8235-4a3b-b6a7-5b5a19fdd011",
   "metadata": {},
   "source": [
    "# Test with test values "
   ]
  },
  {
   "cell_type": "code",
   "execution_count": 16,
   "id": "74649f3b-ffa2-418d-9278-2fb3072ebcf6",
   "metadata": {},
   "outputs": [],
   "source": [
    "x_test= sm.add_constant(x_test) # adding a constant column "
   ]
  },
  {
   "cell_type": "code",
   "execution_count": 17,
   "id": "23b028c7-ae0f-492e-8128-7a6c324566ac",
   "metadata": {},
   "outputs": [
    {
     "data": {
      "text/plain": [
       "4688    0\n",
       "4478    0\n",
       "3849    0\n",
       "4355    0\n",
       "3826    0\n",
       "       ..\n",
       "3605    0\n",
       "4934    0\n",
       "4835    0\n",
       "4105    0\n",
       "2902    0\n",
       "Name: stroke, Length: 1022, dtype: int64"
      ]
     },
     "execution_count": 17,
     "metadata": {},
     "output_type": "execute_result"
    }
   ],
   "source": [
    "y_test "
   ]
  },
  {
   "cell_type": "code",
   "execution_count": 18,
   "id": "cb5daa8c-4a3c-49a6-a27e-3b95be8a21e0",
   "metadata": {},
   "outputs": [],
   "source": [
    "\n",
    "# defining a function for confusion matrix and accuracy: returns confusion matrix and accuracy as tuple \n",
    "def confusion_matrix(data, actual_values, model): \n",
    "    \n",
    "    pre_values = model.predict(data)\n",
    "    bins = np.array([0,0.5,1]) \n",
    "     # Create a histogram, where if values are between 0 and 0.5 tell will be considered 0\n",
    "        # if they are between 0.5 and 1, they will be considered 1\n",
    "    cm = np.histogram2d(actual_values, pre_values, bins= bins)[0]\n",
    "    accuracy = (cm[0,0]+ cm[1,1])/cm.sum()\n",
    "    return cm , accuracy"
   ]
  },
  {
   "cell_type": "code",
   "execution_count": 19,
   "id": "499573e9-dee3-4249-a98d-a67691721dd5",
   "metadata": {},
   "outputs": [
    {
     "data": {
      "text/plain": [
       "(array([[960.,   0.],\n",
       "        [ 62.,   0.]]),\n",
       " 0.9393346379647749)"
      ]
     },
     "execution_count": 19,
     "metadata": {},
     "output_type": "execute_result"
    }
   ],
   "source": [
    "confusion_matrix2= confusion_matrix(x_test, y_test, results_log)\n",
    "confusion_matrix2"
   ]
  },
  {
   "cell_type": "code",
   "execution_count": 20,
   "id": "744b27a3-6b81-4ce8-998c-d57785688733",
   "metadata": {},
   "outputs": [
    {
     "name": "stdout",
     "output_type": "stream",
     "text": [
      "Our accuracy for test values: 0.9393346379647749\n"
     ]
    }
   ],
   "source": [
    "print('Our accuracy for test values:', confusion_matrix2[1])"
   ]
  },
  {
   "cell_type": "markdown",
   "id": "e506c466-35f5-47c4-ac8a-f45d8de1d312",
   "metadata": {},
   "source": [
    "Excellent! "
   ]
  },
  {
   "cell_type": "markdown",
   "id": "884cdb08-f5cf-41f1-abfa-1639ffc64a93",
   "metadata": {},
   "source": [
    "# Results \n"
   ]
  },
  {
   "cell_type": "code",
   "execution_count": 23,
   "id": "f4c5cfea-970e-4f63-8d16-b56ea92fa888",
   "metadata": {},
   "outputs": [
    {
     "data": {
      "text/html": [
       "<table class=\"simpletable\">\n",
       "<caption>Logit Regression Results</caption>\n",
       "<tr>\n",
       "  <th>Dep. Variable:</th>        <td>stroke</td>      <th>  No. Observations:  </th>  <td>  4088</td>  \n",
       "</tr>\n",
       "<tr>\n",
       "  <th>Model:</th>                 <td>Logit</td>      <th>  Df Residuals:      </th>  <td>  4084</td>  \n",
       "</tr>\n",
       "<tr>\n",
       "  <th>Method:</th>                 <td>MLE</td>       <th>  Df Model:          </th>  <td>     3</td>  \n",
       "</tr>\n",
       "<tr>\n",
       "  <th>Date:</th>            <td>Thu, 04 Aug 2022</td> <th>  Pseudo R-squ.:     </th>  <td>0.1921</td>  \n",
       "</tr>\n",
       "<tr>\n",
       "  <th>Time:</th>                <td>08:57:41</td>     <th>  Log-Likelihood:    </th> <td> -613.57</td> \n",
       "</tr>\n",
       "<tr>\n",
       "  <th>converged:</th>             <td>True</td>       <th>  LL-Null:           </th> <td> -759.50</td> \n",
       "</tr>\n",
       "<tr>\n",
       "  <th>Covariance Type:</th>     <td>nonrobust</td>    <th>  LLR p-value:       </th> <td>5.778e-63</td>\n",
       "</tr>\n",
       "</table>\n",
       "<table class=\"simpletable\">\n",
       "<tr>\n",
       "          <td></td>             <th>coef</th>     <th>std err</th>      <th>z</th>      <th>P>|z|</th>  <th>[0.025</th>    <th>0.975]</th>  \n",
       "</tr>\n",
       "<tr>\n",
       "  <th>const</th>             <td>   -7.5726</td> <td>    0.407</td> <td>  -18.609</td> <td> 0.000</td> <td>   -8.370</td> <td>   -6.775</td>\n",
       "</tr>\n",
       "<tr>\n",
       "  <th>age</th>               <td>    0.0701</td> <td>    0.006</td> <td>   12.168</td> <td> 0.000</td> <td>    0.059</td> <td>    0.081</td>\n",
       "</tr>\n",
       "<tr>\n",
       "  <th>hypertension</th>      <td>    0.3527</td> <td>    0.189</td> <td>    1.863</td> <td> 0.062</td> <td>   -0.018</td> <td>    0.724</td>\n",
       "</tr>\n",
       "<tr>\n",
       "  <th>avg_glucose_level</th> <td>    0.0040</td> <td>    0.001</td> <td>    3.020</td> <td> 0.003</td> <td>    0.001</td> <td>    0.007</td>\n",
       "</tr>\n",
       "</table>"
      ],
      "text/plain": [
       "<class 'statsmodels.iolib.summary.Summary'>\n",
       "\"\"\"\n",
       "                           Logit Regression Results                           \n",
       "==============================================================================\n",
       "Dep. Variable:                 stroke   No. Observations:                 4088\n",
       "Model:                          Logit   Df Residuals:                     4084\n",
       "Method:                           MLE   Df Model:                            3\n",
       "Date:                Thu, 04 Aug 2022   Pseudo R-squ.:                  0.1921\n",
       "Time:                        08:57:41   Log-Likelihood:                -613.57\n",
       "converged:                       True   LL-Null:                       -759.50\n",
       "Covariance Type:            nonrobust   LLR p-value:                 5.778e-63\n",
       "=====================================================================================\n",
       "                        coef    std err          z      P>|z|      [0.025      0.975]\n",
       "-------------------------------------------------------------------------------------\n",
       "const                -7.5726      0.407    -18.609      0.000      -8.370      -6.775\n",
       "age                   0.0701      0.006     12.168      0.000       0.059       0.081\n",
       "hypertension          0.3527      0.189      1.863      0.062      -0.018       0.724\n",
       "avg_glucose_level     0.0040      0.001      3.020      0.003       0.001       0.007\n",
       "=====================================================================================\n",
       "\"\"\""
      ]
     },
     "execution_count": 23,
     "metadata": {},
     "output_type": "execute_result"
    }
   ],
   "source": [
    "results_log.summary()"
   ]
  },
  {
   "cell_type": "markdown",
   "id": "1d08de8f-beb4-4d82-85da-14c199169a1a",
   "metadata": {},
   "source": [
    "With same age, and same average blood glucose, when a person have hypertension, it has 42% increased risk of getting stroke. (Though with the significance of 6% for the coefficient of the hypertension)"
   ]
  },
  {
   "cell_type": "code",
   "execution_count": 22,
   "id": "ccc40b45-df8a-49eb-8d7f-8b24adafd564",
   "metadata": {},
   "outputs": [
    {
     "data": {
      "text/plain": [
       "1.4229042081340688"
      ]
     },
     "execution_count": 22,
     "metadata": {},
     "output_type": "execute_result"
    }
   ],
   "source": [
    "np.exp(0.3527)"
   ]
  },
  {
   "cell_type": "markdown",
   "id": "750daa2b-8b8b-490c-8dd9-e9c935fbadcb",
   "metadata": {},
   "source": [
    "With same blood pressure profile and average glucose level, increase of one year of age, increases the risk of getting stroke by 7.3% (extremely significant predictor): "
   ]
  },
  {
   "cell_type": "code",
   "execution_count": 24,
   "id": "ebce4eba-24b7-40c1-b657-d7c910a89e0b",
   "metadata": {},
   "outputs": [
    {
     "data": {
      "text/plain": [
       "1.0726154374350616"
      ]
     },
     "execution_count": 24,
     "metadata": {},
     "output_type": "execute_result"
    }
   ],
   "source": [
    "np.exp(0.0701)"
   ]
  },
  {
   "cell_type": "markdown",
   "id": "886b319f-ba06-45cf-afb3-260327538e2b",
   "metadata": {},
   "source": [
    "With same blood pressure profile and age, increase of one unit of average glucose level increases the risk of getting stroke by 0.4% (very significant predictor): "
   ]
  },
  {
   "cell_type": "code",
   "execution_count": 26,
   "id": "623d7287-7002-44a0-9744-d75acf5d258c",
   "metadata": {},
   "outputs": [
    {
     "data": {
      "text/plain": [
       "1.004008010677342"
      ]
     },
     "execution_count": 26,
     "metadata": {},
     "output_type": "execute_result"
    }
   ],
   "source": [
    "np.exp(0.0040)"
   ]
  },
  {
   "cell_type": "markdown",
   "id": "5edfd58a-509a-4d93-93e5-33c71292ceca",
   "metadata": {},
   "source": [
    "Now we can predict the risk of getting stroke for specic age, hypertension profile and averaga glucose level. "
   ]
  }
 ],
 "metadata": {
  "kernelspec": {
   "display_name": "Python 3",
   "language": "python",
   "name": "python3"
  },
  "language_info": {
   "codemirror_mode": {
    "name": "ipython",
    "version": 3
   },
   "file_extension": ".py",
   "mimetype": "text/x-python",
   "name": "python",
   "nbconvert_exporter": "python",
   "pygments_lexer": "ipython3",
   "version": "3.8.10"
  }
 },
 "nbformat": 4,
 "nbformat_minor": 5
}
